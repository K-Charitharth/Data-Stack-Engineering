{
 "cells": [
  {
   "cell_type": "code",
   "execution_count": 1,
   "metadata": {},
   "outputs": [],
   "source": [
    "import pandas as pd\n",
    "import numpy as np"
   ]
  },
  {
   "cell_type": "code",
   "execution_count": 2,
   "metadata": {},
   "outputs": [
    {
     "data": {
      "text/html": [
       "<div>\n",
       "<style scoped>\n",
       "    .dataframe tbody tr th:only-of-type {\n",
       "        vertical-align: middle;\n",
       "    }\n",
       "\n",
       "    .dataframe tbody tr th {\n",
       "        vertical-align: top;\n",
       "    }\n",
       "\n",
       "    .dataframe thead th {\n",
       "        text-align: right;\n",
       "    }\n",
       "</style>\n",
       "<table border=\"1\" class=\"dataframe\">\n",
       "  <thead>\n",
       "    <tr style=\"text-align: right;\">\n",
       "      <th></th>\n",
       "      <th>imdbID</th>\n",
       "      <th>title</th>\n",
       "      <th>year</th>\n",
       "      <th>rating</th>\n",
       "      <th>runtime</th>\n",
       "      <th>genre</th>\n",
       "      <th>released</th>\n",
       "      <th>director</th>\n",
       "      <th>writer</th>\n",
       "      <th>cast</th>\n",
       "      <th>...</th>\n",
       "      <th>imdbRating</th>\n",
       "      <th>imdbVotes</th>\n",
       "      <th>poster</th>\n",
       "      <th>plot</th>\n",
       "      <th>fullplot</th>\n",
       "      <th>language</th>\n",
       "      <th>country</th>\n",
       "      <th>awards</th>\n",
       "      <th>lastupdated</th>\n",
       "      <th>type</th>\n",
       "    </tr>\n",
       "  </thead>\n",
       "  <tbody>\n",
       "    <tr>\n",
       "      <th>0</th>\n",
       "      <td>1</td>\n",
       "      <td>Carmencita</td>\n",
       "      <td>1894</td>\n",
       "      <td>NOT RATED</td>\n",
       "      <td>1 min</td>\n",
       "      <td>Documentary, Short</td>\n",
       "      <td>NaN</td>\n",
       "      <td>William K.L. Dickson</td>\n",
       "      <td>NaN</td>\n",
       "      <td>Carmencita</td>\n",
       "      <td>...</td>\n",
       "      <td>5.9</td>\n",
       "      <td>1032.0</td>\n",
       "      <td>https://m.media-amazon.com/images/M/MV5BMjAzND...</td>\n",
       "      <td>Performing on what looks like a small wooden s...</td>\n",
       "      <td>Performing on what looks like a small wooden s...</td>\n",
       "      <td>NaN</td>\n",
       "      <td>USA</td>\n",
       "      <td>NaN</td>\n",
       "      <td>2015-08-26 00:03:45.040000000</td>\n",
       "      <td>movie</td>\n",
       "    </tr>\n",
       "    <tr>\n",
       "      <th>1</th>\n",
       "      <td>5</td>\n",
       "      <td>Blacksmith Scene</td>\n",
       "      <td>1893</td>\n",
       "      <td>UNRATED</td>\n",
       "      <td>1 min</td>\n",
       "      <td>Short</td>\n",
       "      <td>1893-05-09</td>\n",
       "      <td>William K.L. Dickson</td>\n",
       "      <td>NaN</td>\n",
       "      <td>Charles Kayser, John Ott</td>\n",
       "      <td>...</td>\n",
       "      <td>6.2</td>\n",
       "      <td>1189.0</td>\n",
       "      <td>NaN</td>\n",
       "      <td>Three men hammer on an anvil and pass a bottle...</td>\n",
       "      <td>A stationary camera looks at a large anvil wit...</td>\n",
       "      <td>NaN</td>\n",
       "      <td>USA</td>\n",
       "      <td>1 win.</td>\n",
       "      <td>2015-08-26 00:03:50.133000000</td>\n",
       "      <td>movie</td>\n",
       "    </tr>\n",
       "    <tr>\n",
       "      <th>2</th>\n",
       "      <td>3</td>\n",
       "      <td>Pauvre Pierrot</td>\n",
       "      <td>1892</td>\n",
       "      <td>NaN</td>\n",
       "      <td>4 min</td>\n",
       "      <td>Animation, Comedy, Short</td>\n",
       "      <td>1892-10-28</td>\n",
       "      <td>�mile Reynaud</td>\n",
       "      <td>NaN</td>\n",
       "      <td>NaN</td>\n",
       "      <td>...</td>\n",
       "      <td>6.7</td>\n",
       "      <td>566.0</td>\n",
       "      <td>NaN</td>\n",
       "      <td>One night, Arlequin come to see his lover Colo...</td>\n",
       "      <td>One night, Arlequin come to see his lover Colo...</td>\n",
       "      <td>NaN</td>\n",
       "      <td>France</td>\n",
       "      <td>NaN</td>\n",
       "      <td>2015-08-12 00:06:02.720000000</td>\n",
       "      <td>movie</td>\n",
       "    </tr>\n",
       "    <tr>\n",
       "      <th>3</th>\n",
       "      <td>8</td>\n",
       "      <td>Edison Kinetoscopic Record of a Sneeze</td>\n",
       "      <td>1894</td>\n",
       "      <td>NaN</td>\n",
       "      <td>1 min</td>\n",
       "      <td>Documentary, Short</td>\n",
       "      <td>1894-01-09</td>\n",
       "      <td>William K.L. Dickson</td>\n",
       "      <td>NaN</td>\n",
       "      <td>Fred Ott</td>\n",
       "      <td>...</td>\n",
       "      <td>5.9</td>\n",
       "      <td>988.0</td>\n",
       "      <td>NaN</td>\n",
       "      <td>A man (Thomas Edison's assistant) takes a pinc...</td>\n",
       "      <td>A man (Edison's assistant) takes a pinch of sn...</td>\n",
       "      <td>NaN</td>\n",
       "      <td>USA</td>\n",
       "      <td>NaN</td>\n",
       "      <td>2015-08-10 00:21:07.127000000</td>\n",
       "      <td>movie</td>\n",
       "    </tr>\n",
       "    <tr>\n",
       "      <th>4</th>\n",
       "      <td>10</td>\n",
       "      <td>Employees Leaving the Lumi�re Factory</td>\n",
       "      <td>1895</td>\n",
       "      <td>NaN</td>\n",
       "      <td>1 min</td>\n",
       "      <td>Documentary, Short</td>\n",
       "      <td>1895-03-22</td>\n",
       "      <td>Louis Lumi�re</td>\n",
       "      <td>NaN</td>\n",
       "      <td>NaN</td>\n",
       "      <td>...</td>\n",
       "      <td>6.9</td>\n",
       "      <td>3469.0</td>\n",
       "      <td>NaN</td>\n",
       "      <td>A man opens the big gates to the Lumi�re facto...</td>\n",
       "      <td>A man opens the big gates to the Lumi�re facto...</td>\n",
       "      <td>NaN</td>\n",
       "      <td>France</td>\n",
       "      <td>NaN</td>\n",
       "      <td>2015-08-26 00:03:56.603000000</td>\n",
       "      <td>movie</td>\n",
       "    </tr>\n",
       "  </tbody>\n",
       "</table>\n",
       "<p>5 rows × 21 columns</p>\n",
       "</div>"
      ],
      "text/plain": [
       "   imdbID                                   title  year     rating runtime   \n",
       "0       1                              Carmencita  1894  NOT RATED   1 min  \\\n",
       "1       5                        Blacksmith Scene  1893    UNRATED   1 min   \n",
       "2       3                          Pauvre Pierrot  1892        NaN   4 min   \n",
       "3       8  Edison Kinetoscopic Record of a Sneeze  1894        NaN   1 min   \n",
       "4      10   Employees Leaving the Lumi�re Factory  1895        NaN   1 min   \n",
       "\n",
       "                      genre    released              director writer   \n",
       "0        Documentary, Short         NaN  William K.L. Dickson    NaN  \\\n",
       "1                     Short  1893-05-09  William K.L. Dickson    NaN   \n",
       "2  Animation, Comedy, Short  1892-10-28         �mile Reynaud    NaN   \n",
       "3        Documentary, Short  1894-01-09  William K.L. Dickson    NaN   \n",
       "4        Documentary, Short  1895-03-22         Louis Lumi�re    NaN   \n",
       "\n",
       "                       cast  ...  imdbRating  imdbVotes   \n",
       "0                Carmencita  ...         5.9     1032.0  \\\n",
       "1  Charles Kayser, John Ott  ...         6.2     1189.0   \n",
       "2                       NaN  ...         6.7      566.0   \n",
       "3                  Fred Ott  ...         5.9      988.0   \n",
       "4                       NaN  ...         6.9     3469.0   \n",
       "\n",
       "                                              poster   \n",
       "0  https://m.media-amazon.com/images/M/MV5BMjAzND...  \\\n",
       "1                                                NaN   \n",
       "2                                                NaN   \n",
       "3                                                NaN   \n",
       "4                                                NaN   \n",
       "\n",
       "                                                plot   \n",
       "0  Performing on what looks like a small wooden s...  \\\n",
       "1  Three men hammer on an anvil and pass a bottle...   \n",
       "2  One night, Arlequin come to see his lover Colo...   \n",
       "3  A man (Thomas Edison's assistant) takes a pinc...   \n",
       "4  A man opens the big gates to the Lumi�re facto...   \n",
       "\n",
       "                                            fullplot language country  awards   \n",
       "0  Performing on what looks like a small wooden s...      NaN     USA     NaN  \\\n",
       "1  A stationary camera looks at a large anvil wit...      NaN     USA  1 win.   \n",
       "2  One night, Arlequin come to see his lover Colo...      NaN  France     NaN   \n",
       "3  A man (Edison's assistant) takes a pinch of sn...      NaN     USA     NaN   \n",
       "4  A man opens the big gates to the Lumi�re facto...      NaN  France     NaN   \n",
       "\n",
       "                     lastupdated   type  \n",
       "0  2015-08-26 00:03:45.040000000  movie  \n",
       "1  2015-08-26 00:03:50.133000000  movie  \n",
       "2  2015-08-12 00:06:02.720000000  movie  \n",
       "3  2015-08-10 00:21:07.127000000  movie  \n",
       "4  2015-08-26 00:03:56.603000000  movie  \n",
       "\n",
       "[5 rows x 21 columns]"
      ]
     },
     "execution_count": 2,
     "metadata": {},
     "output_type": "execute_result"
    }
   ],
   "source": [
    "df = pd.read_csv('./data/movies_initial.csv')\n",
    "df.head()"
   ]
  },
  {
   "cell_type": "code",
   "execution_count": 3,
   "metadata": {},
   "outputs": [],
   "source": [
    "pd.set_option('display.max_columns',21)"
   ]
  },
  {
   "cell_type": "code",
   "execution_count": 4,
   "metadata": {},
   "outputs": [
    {
     "name": "stdout",
     "output_type": "stream",
     "text": [
      "<class 'pandas.core.frame.DataFrame'>\n",
      "RangeIndex: 46014 entries, 0 to 46013\n",
      "Data columns (total 21 columns):\n",
      " #   Column       Non-Null Count  Dtype  \n",
      "---  ------       --------------  -----  \n",
      " 0   imdbID       46014 non-null  int64  \n",
      " 1   title        46014 non-null  object \n",
      " 2   year         46014 non-null  object \n",
      " 3   rating       24629 non-null  object \n",
      " 4   runtime      43377 non-null  object \n",
      " 5   genre        45615 non-null  object \n",
      " 6   released     43002 non-null  object \n",
      " 7   director     45409 non-null  object \n",
      " 8   writer       42942 non-null  object \n",
      " 9   cast         44928 non-null  object \n",
      " 10  metacritic   9401 non-null   float64\n",
      " 11  imdbRating   44300 non-null  float64\n",
      " 12  imdbVotes    44299 non-null  float64\n",
      " 13  poster       35798 non-null  object \n",
      " 14  plot         42161 non-null  object \n",
      " 15  fullplot     41421 non-null  object \n",
      " 16  language     44899 non-null  object \n",
      " 17  country      45830 non-null  object \n",
      " 18  awards       23542 non-null  object \n",
      " 19  lastupdated  46014 non-null  object \n",
      " 20  type         45976 non-null  object \n",
      "dtypes: float64(3), int64(1), object(17)\n",
      "memory usage: 7.4+ MB\n"
     ]
    }
   ],
   "source": [
    "df.info()"
   ]
  },
  {
   "cell_type": "code",
   "execution_count": 5,
   "metadata": {},
   "outputs": [
    {
     "data": {
      "text/plain": [
       "(46014, 21)"
      ]
     },
     "execution_count": 5,
     "metadata": {},
     "output_type": "execute_result"
    }
   ],
   "source": [
    "df.shape"
   ]
  },
  {
   "cell_type": "code",
   "execution_count": 6,
   "metadata": {},
   "outputs": [
    {
     "data": {
      "text/plain": [
       "imdbID             0\n",
       "title              0\n",
       "year               0\n",
       "rating         21385\n",
       "runtime         2637\n",
       "genre            399\n",
       "released        3012\n",
       "director         605\n",
       "writer          3072\n",
       "cast            1086\n",
       "metacritic     36613\n",
       "imdbRating      1714\n",
       "imdbVotes       1715\n",
       "poster         10216\n",
       "plot            3853\n",
       "fullplot        4593\n",
       "language        1115\n",
       "country          184\n",
       "awards         22472\n",
       "lastupdated        0\n",
       "type              38\n",
       "dtype: int64"
      ]
     },
     "execution_count": 6,
     "metadata": {},
     "output_type": "execute_result"
    }
   ],
   "source": [
    "#\tWhat is the total number of missing values in each column?\n",
    "df.isna().sum()"
   ]
  },
  {
   "cell_type": "code",
   "execution_count": 7,
   "metadata": {},
   "outputs": [
    {
     "data": {
      "text/plain": [
       "1450"
      ]
     },
     "execution_count": 7,
     "metadata": {},
     "output_type": "execute_result"
    }
   ],
   "source": [
    "#\tHow many unique values are present in the 'genre' column?\n",
    "df['genre'].nunique()"
   ]
  },
  {
   "cell_type": "code",
   "execution_count": 8,
   "metadata": {},
   "outputs": [
    {
     "ename": "ValueError",
     "evalue": "invalid literal for int() with base 10: '1979�': Error while type casting for column 'year'",
     "output_type": "error",
     "traceback": [
      "\u001b[1;31m---------------------------------------------------------------------------\u001b[0m",
      "\u001b[1;31mValueError\u001b[0m                                Traceback (most recent call last)",
      "Cell \u001b[1;32mIn[8], line 2\u001b[0m\n\u001b[0;32m      1\u001b[0m \u001b[39m#\tHow many movies are there in the dataset released in each year?\u001b[39;00m\n\u001b[1;32m----> 2\u001b[0m df \u001b[39m=\u001b[39m df\u001b[39m.\u001b[39;49mastype({\u001b[39m'\u001b[39;49m\u001b[39myear\u001b[39;49m\u001b[39m'\u001b[39;49m:\u001b[39m'\u001b[39;49m\u001b[39mint64\u001b[39;49m\u001b[39m'\u001b[39;49m})\n",
      "File \u001b[1;32mc:\\Users\\Ezaz khan\\AppData\\Local\\Programs\\Python\\Python311\\Lib\\site-packages\\pandas\\core\\generic.py:6305\u001b[0m, in \u001b[0;36mNDFrame.astype\u001b[1;34m(self, dtype, copy, errors)\u001b[0m\n\u001b[0;32m   6303\u001b[0m \u001b[39melse\u001b[39;00m:\n\u001b[0;32m   6304\u001b[0m     \u001b[39mtry\u001b[39;00m:\n\u001b[1;32m-> 6305\u001b[0m         res_col \u001b[39m=\u001b[39m col\u001b[39m.\u001b[39;49mastype(dtype\u001b[39m=\u001b[39;49mcdt, copy\u001b[39m=\u001b[39;49mcopy, errors\u001b[39m=\u001b[39;49merrors)\n\u001b[0;32m   6306\u001b[0m     \u001b[39mexcept\u001b[39;00m \u001b[39mValueError\u001b[39;00m \u001b[39mas\u001b[39;00m ex:\n\u001b[0;32m   6307\u001b[0m         ex\u001b[39m.\u001b[39margs \u001b[39m=\u001b[39m (\n\u001b[0;32m   6308\u001b[0m             \u001b[39mf\u001b[39m\u001b[39m\"\u001b[39m\u001b[39m{\u001b[39;00mex\u001b[39m}\u001b[39;00m\u001b[39m: Error while type casting for column \u001b[39m\u001b[39m'\u001b[39m\u001b[39m{\u001b[39;00mcol_name\u001b[39m}\u001b[39;00m\u001b[39m'\u001b[39m\u001b[39m\"\u001b[39m,\n\u001b[0;32m   6309\u001b[0m         )\n",
      "File \u001b[1;32mc:\\Users\\Ezaz khan\\AppData\\Local\\Programs\\Python\\Python311\\Lib\\site-packages\\pandas\\core\\generic.py:6324\u001b[0m, in \u001b[0;36mNDFrame.astype\u001b[1;34m(self, dtype, copy, errors)\u001b[0m\n\u001b[0;32m   6317\u001b[0m     results \u001b[39m=\u001b[39m [\n\u001b[0;32m   6318\u001b[0m         \u001b[39mself\u001b[39m\u001b[39m.\u001b[39miloc[:, i]\u001b[39m.\u001b[39mastype(dtype, copy\u001b[39m=\u001b[39mcopy)\n\u001b[0;32m   6319\u001b[0m         \u001b[39mfor\u001b[39;00m i \u001b[39min\u001b[39;00m \u001b[39mrange\u001b[39m(\u001b[39mlen\u001b[39m(\u001b[39mself\u001b[39m\u001b[39m.\u001b[39mcolumns))\n\u001b[0;32m   6320\u001b[0m     ]\n\u001b[0;32m   6322\u001b[0m \u001b[39melse\u001b[39;00m:\n\u001b[0;32m   6323\u001b[0m     \u001b[39m# else, only a single dtype is given\u001b[39;00m\n\u001b[1;32m-> 6324\u001b[0m     new_data \u001b[39m=\u001b[39m \u001b[39mself\u001b[39;49m\u001b[39m.\u001b[39;49m_mgr\u001b[39m.\u001b[39;49mastype(dtype\u001b[39m=\u001b[39;49mdtype, copy\u001b[39m=\u001b[39;49mcopy, errors\u001b[39m=\u001b[39;49merrors)\n\u001b[0;32m   6325\u001b[0m     \u001b[39mreturn\u001b[39;00m \u001b[39mself\u001b[39m\u001b[39m.\u001b[39m_constructor(new_data)\u001b[39m.\u001b[39m__finalize__(\u001b[39mself\u001b[39m, method\u001b[39m=\u001b[39m\u001b[39m\"\u001b[39m\u001b[39mastype\u001b[39m\u001b[39m\"\u001b[39m)\n\u001b[0;32m   6327\u001b[0m \u001b[39m# GH 33113: handle empty frame or series\u001b[39;00m\n",
      "File \u001b[1;32mc:\\Users\\Ezaz khan\\AppData\\Local\\Programs\\Python\\Python311\\Lib\\site-packages\\pandas\\core\\internals\\managers.py:451\u001b[0m, in \u001b[0;36mBaseBlockManager.astype\u001b[1;34m(self, dtype, copy, errors)\u001b[0m\n\u001b[0;32m    448\u001b[0m \u001b[39melif\u001b[39;00m using_copy_on_write():\n\u001b[0;32m    449\u001b[0m     copy \u001b[39m=\u001b[39m \u001b[39mFalse\u001b[39;00m\n\u001b[1;32m--> 451\u001b[0m \u001b[39mreturn\u001b[39;00m \u001b[39mself\u001b[39;49m\u001b[39m.\u001b[39;49mapply(\n\u001b[0;32m    452\u001b[0m     \u001b[39m\"\u001b[39;49m\u001b[39mastype\u001b[39;49m\u001b[39m\"\u001b[39;49m,\n\u001b[0;32m    453\u001b[0m     dtype\u001b[39m=\u001b[39;49mdtype,\n\u001b[0;32m    454\u001b[0m     copy\u001b[39m=\u001b[39;49mcopy,\n\u001b[0;32m    455\u001b[0m     errors\u001b[39m=\u001b[39;49merrors,\n\u001b[0;32m    456\u001b[0m     using_cow\u001b[39m=\u001b[39;49musing_copy_on_write(),\n\u001b[0;32m    457\u001b[0m )\n",
      "File \u001b[1;32mc:\\Users\\Ezaz khan\\AppData\\Local\\Programs\\Python\\Python311\\Lib\\site-packages\\pandas\\core\\internals\\managers.py:352\u001b[0m, in \u001b[0;36mBaseBlockManager.apply\u001b[1;34m(self, f, align_keys, **kwargs)\u001b[0m\n\u001b[0;32m    350\u001b[0m         applied \u001b[39m=\u001b[39m b\u001b[39m.\u001b[39mapply(f, \u001b[39m*\u001b[39m\u001b[39m*\u001b[39mkwargs)\n\u001b[0;32m    351\u001b[0m     \u001b[39melse\u001b[39;00m:\n\u001b[1;32m--> 352\u001b[0m         applied \u001b[39m=\u001b[39m \u001b[39mgetattr\u001b[39;49m(b, f)(\u001b[39m*\u001b[39;49m\u001b[39m*\u001b[39;49mkwargs)\n\u001b[0;32m    353\u001b[0m     result_blocks \u001b[39m=\u001b[39m extend_blocks(applied, result_blocks)\n\u001b[0;32m    355\u001b[0m out \u001b[39m=\u001b[39m \u001b[39mtype\u001b[39m(\u001b[39mself\u001b[39m)\u001b[39m.\u001b[39mfrom_blocks(result_blocks, \u001b[39mself\u001b[39m\u001b[39m.\u001b[39maxes)\n",
      "File \u001b[1;32mc:\\Users\\Ezaz khan\\AppData\\Local\\Programs\\Python\\Python311\\Lib\\site-packages\\pandas\\core\\internals\\blocks.py:511\u001b[0m, in \u001b[0;36mBlock.astype\u001b[1;34m(self, dtype, copy, errors, using_cow)\u001b[0m\n\u001b[0;32m    491\u001b[0m \u001b[39m\u001b[39m\u001b[39m\"\"\"\u001b[39;00m\n\u001b[0;32m    492\u001b[0m \u001b[39mCoerce to the new dtype.\u001b[39;00m\n\u001b[0;32m    493\u001b[0m \n\u001b[1;32m   (...)\u001b[0m\n\u001b[0;32m    507\u001b[0m \u001b[39mBlock\u001b[39;00m\n\u001b[0;32m    508\u001b[0m \u001b[39m\"\"\"\u001b[39;00m\n\u001b[0;32m    509\u001b[0m values \u001b[39m=\u001b[39m \u001b[39mself\u001b[39m\u001b[39m.\u001b[39mvalues\n\u001b[1;32m--> 511\u001b[0m new_values \u001b[39m=\u001b[39m astype_array_safe(values, dtype, copy\u001b[39m=\u001b[39;49mcopy, errors\u001b[39m=\u001b[39;49merrors)\n\u001b[0;32m    513\u001b[0m new_values \u001b[39m=\u001b[39m maybe_coerce_values(new_values)\n\u001b[0;32m    515\u001b[0m refs \u001b[39m=\u001b[39m \u001b[39mNone\u001b[39;00m\n",
      "File \u001b[1;32mc:\\Users\\Ezaz khan\\AppData\\Local\\Programs\\Python\\Python311\\Lib\\site-packages\\pandas\\core\\dtypes\\astype.py:242\u001b[0m, in \u001b[0;36mastype_array_safe\u001b[1;34m(values, dtype, copy, errors)\u001b[0m\n\u001b[0;32m    239\u001b[0m     dtype \u001b[39m=\u001b[39m dtype\u001b[39m.\u001b[39mnumpy_dtype\n\u001b[0;32m    241\u001b[0m \u001b[39mtry\u001b[39;00m:\n\u001b[1;32m--> 242\u001b[0m     new_values \u001b[39m=\u001b[39m astype_array(values, dtype, copy\u001b[39m=\u001b[39;49mcopy)\n\u001b[0;32m    243\u001b[0m \u001b[39mexcept\u001b[39;00m (\u001b[39mValueError\u001b[39;00m, \u001b[39mTypeError\u001b[39;00m):\n\u001b[0;32m    244\u001b[0m     \u001b[39m# e.g. _astype_nansafe can fail on object-dtype of strings\u001b[39;00m\n\u001b[0;32m    245\u001b[0m     \u001b[39m#  trying to convert to float\u001b[39;00m\n\u001b[0;32m    246\u001b[0m     \u001b[39mif\u001b[39;00m errors \u001b[39m==\u001b[39m \u001b[39m\"\u001b[39m\u001b[39mignore\u001b[39m\u001b[39m\"\u001b[39m:\n",
      "File \u001b[1;32mc:\\Users\\Ezaz khan\\AppData\\Local\\Programs\\Python\\Python311\\Lib\\site-packages\\pandas\\core\\dtypes\\astype.py:187\u001b[0m, in \u001b[0;36mastype_array\u001b[1;34m(values, dtype, copy)\u001b[0m\n\u001b[0;32m    184\u001b[0m     values \u001b[39m=\u001b[39m values\u001b[39m.\u001b[39mastype(dtype, copy\u001b[39m=\u001b[39mcopy)\n\u001b[0;32m    186\u001b[0m \u001b[39melse\u001b[39;00m:\n\u001b[1;32m--> 187\u001b[0m     values \u001b[39m=\u001b[39m _astype_nansafe(values, dtype, copy\u001b[39m=\u001b[39;49mcopy)\n\u001b[0;32m    189\u001b[0m \u001b[39m# in pandas we don't store numpy str dtypes, so convert to object\u001b[39;00m\n\u001b[0;32m    190\u001b[0m \u001b[39mif\u001b[39;00m \u001b[39misinstance\u001b[39m(dtype, np\u001b[39m.\u001b[39mdtype) \u001b[39mand\u001b[39;00m \u001b[39missubclass\u001b[39m(values\u001b[39m.\u001b[39mdtype\u001b[39m.\u001b[39mtype, \u001b[39mstr\u001b[39m):\n",
      "File \u001b[1;32mc:\\Users\\Ezaz khan\\AppData\\Local\\Programs\\Python\\Python311\\Lib\\site-packages\\pandas\\core\\dtypes\\astype.py:138\u001b[0m, in \u001b[0;36m_astype_nansafe\u001b[1;34m(arr, dtype, copy, skipna)\u001b[0m\n\u001b[0;32m    134\u001b[0m     \u001b[39mraise\u001b[39;00m \u001b[39mValueError\u001b[39;00m(msg)\n\u001b[0;32m    136\u001b[0m \u001b[39mif\u001b[39;00m copy \u001b[39mor\u001b[39;00m is_object_dtype(arr\u001b[39m.\u001b[39mdtype) \u001b[39mor\u001b[39;00m is_object_dtype(dtype):\n\u001b[0;32m    137\u001b[0m     \u001b[39m# Explicit copy, or required since NumPy can't view from / to object.\u001b[39;00m\n\u001b[1;32m--> 138\u001b[0m     \u001b[39mreturn\u001b[39;00m arr\u001b[39m.\u001b[39;49mastype(dtype, copy\u001b[39m=\u001b[39;49m\u001b[39mTrue\u001b[39;49;00m)\n\u001b[0;32m    140\u001b[0m \u001b[39mreturn\u001b[39;00m arr\u001b[39m.\u001b[39mastype(dtype, copy\u001b[39m=\u001b[39mcopy)\n",
      "\u001b[1;31mValueError\u001b[0m: invalid literal for int() with base 10: '1979�': Error while type casting for column 'year'"
     ]
    }
   ],
   "source": [
    "#\tHow many movies are there in the dataset released in each year?\n",
    "df = df.astype({'year':'int64'})"
   ]
  },
  {
   "cell_type": "code",
   "execution_count": 9,
   "metadata": {},
   "outputs": [],
   "source": [
    "df['year'] = df['year'].str.replace('�','')"
   ]
  },
  {
   "cell_type": "code",
   "execution_count": 10,
   "metadata": {},
   "outputs": [
    {
     "data": {
      "text/html": [
       "<div>\n",
       "<style scoped>\n",
       "    .dataframe tbody tr th:only-of-type {\n",
       "        vertical-align: middle;\n",
       "    }\n",
       "\n",
       "    .dataframe tbody tr th {\n",
       "        vertical-align: top;\n",
       "    }\n",
       "\n",
       "    .dataframe thead th {\n",
       "        text-align: right;\n",
       "    }\n",
       "</style>\n",
       "<table border=\"1\" class=\"dataframe\">\n",
       "  <thead>\n",
       "    <tr style=\"text-align: right;\">\n",
       "      <th></th>\n",
       "      <th>imdbID</th>\n",
       "      <th>title</th>\n",
       "      <th>year</th>\n",
       "      <th>rating</th>\n",
       "      <th>runtime</th>\n",
       "      <th>genre</th>\n",
       "      <th>released</th>\n",
       "      <th>director</th>\n",
       "      <th>writer</th>\n",
       "      <th>cast</th>\n",
       "      <th>metacritic</th>\n",
       "      <th>imdbRating</th>\n",
       "      <th>imdbVotes</th>\n",
       "      <th>poster</th>\n",
       "      <th>plot</th>\n",
       "      <th>fullplot</th>\n",
       "      <th>language</th>\n",
       "      <th>country</th>\n",
       "      <th>awards</th>\n",
       "      <th>lastupdated</th>\n",
       "      <th>type</th>\n",
       "    </tr>\n",
       "  </thead>\n",
       "  <tbody>\n",
       "  </tbody>\n",
       "</table>\n",
       "</div>"
      ],
      "text/plain": [
       "Empty DataFrame\n",
       "Columns: [imdbID, title, year, rating, runtime, genre, released, director, writer, cast, metacritic, imdbRating, imdbVotes, poster, plot, fullplot, language, country, awards, lastupdated, type]\n",
       "Index: []"
      ]
     },
     "execution_count": 10,
     "metadata": {},
     "output_type": "execute_result"
    }
   ],
   "source": [
    "filt = df['year'].str.contains('�')\n",
    "df[filt]"
   ]
  },
  {
   "cell_type": "code",
   "execution_count": 11,
   "metadata": {},
   "outputs": [],
   "source": [
    "df = df.astype({'year':'int64'})"
   ]
  },
  {
   "cell_type": "code",
   "execution_count": 12,
   "metadata": {},
   "outputs": [
    {
     "data": {
      "text/plain": [
       "type\n",
       "movie     45585\n",
       "series      391\n",
       "Name: count, dtype: int64"
      ]
     },
     "execution_count": 12,
     "metadata": {},
     "output_type": "execute_result"
    }
   ],
   "source": [
    "df['type'].value_counts()"
   ]
  },
  {
   "cell_type": "code",
   "execution_count": 13,
   "metadata": {},
   "outputs": [
    {
     "data": {
      "text/plain": [
       "year\n",
       "2015    2073\n",
       "2014    2058\n",
       "2013    1902\n",
       "2012    1804\n",
       "2011    1687\n",
       "        ... \n",
       "1874       1\n",
       "1880       1\n",
       "1893       1\n",
       "1887       1\n",
       "2019       1\n",
       "Name: imdbID, Length: 134, dtype: int64"
      ]
     },
     "execution_count": 13,
     "metadata": {},
     "output_type": "execute_result"
    }
   ],
   "source": [
    "df[df['type'] == 'movie'].groupby('year')['imdbID'].count().sort_values(ascending=False)"
   ]
  },
  {
   "cell_type": "code",
   "execution_count": 14,
   "metadata": {},
   "outputs": [
    {
     "data": {
      "text/plain": [
       "director\n",
       "John Ford    59\n",
       "Name: imdbID, dtype: int64"
      ]
     },
     "execution_count": 14,
     "metadata": {},
     "output_type": "execute_result"
    }
   ],
   "source": [
    "#Which director has directed the maximum number of movies in the dataset?\n",
    "df.groupby('director')['imdbID'].count().sort_values(ascending=False).head(1)"
   ]
  },
  {
   "cell_type": "code",
   "execution_count": 15,
   "metadata": {},
   "outputs": [
    {
     "data": {
      "text/html": [
       "<div>\n",
       "<style scoped>\n",
       "    .dataframe tbody tr th:only-of-type {\n",
       "        vertical-align: middle;\n",
       "    }\n",
       "\n",
       "    .dataframe tbody tr th {\n",
       "        vertical-align: top;\n",
       "    }\n",
       "\n",
       "    .dataframe thead th {\n",
       "        text-align: right;\n",
       "    }\n",
       "</style>\n",
       "<table border=\"1\" class=\"dataframe\">\n",
       "  <thead>\n",
       "    <tr style=\"text-align: right;\">\n",
       "      <th></th>\n",
       "      <th>title</th>\n",
       "      <th>imdbRating</th>\n",
       "    </tr>\n",
       "  </thead>\n",
       "  <tbody>\n",
       "    <tr>\n",
       "      <th>25</th>\n",
       "      <td>A Trip to the Moon</td>\n",
       "      <td>8.2</td>\n",
       "    </tr>\n",
       "    <tr>\n",
       "      <th>208</th>\n",
       "      <td>The Cabinet of Dr. Caligari</td>\n",
       "      <td>8.1</td>\n",
       "    </tr>\n",
       "    <tr>\n",
       "      <th>230</th>\n",
       "      <td>One Week</td>\n",
       "      <td>8.3</td>\n",
       "    </tr>\n",
       "    <tr>\n",
       "      <th>237</th>\n",
       "      <td>Why Change Your Wife?</td>\n",
       "      <td>8.1</td>\n",
       "    </tr>\n",
       "    <tr>\n",
       "      <th>246</th>\n",
       "      <td>Enchantment</td>\n",
       "      <td>8.3</td>\n",
       "    </tr>\n",
       "    <tr>\n",
       "      <th>...</th>\n",
       "      <td>...</td>\n",
       "      <td>...</td>\n",
       "    </tr>\n",
       "    <tr>\n",
       "      <th>45805</th>\n",
       "      <td>Indru Netru Naalai</td>\n",
       "      <td>8.3</td>\n",
       "    </tr>\n",
       "    <tr>\n",
       "      <th>45949</th>\n",
       "      <td>In Jackson Heights</td>\n",
       "      <td>8.6</td>\n",
       "    </tr>\n",
       "    <tr>\n",
       "      <th>45974</th>\n",
       "      <td>Cosmos Laundromat</td>\n",
       "      <td>8.8</td>\n",
       "    </tr>\n",
       "    <tr>\n",
       "      <th>45998</th>\n",
       "      <td>Thani Oruvan</td>\n",
       "      <td>9.4</td>\n",
       "    </tr>\n",
       "    <tr>\n",
       "      <th>46008</th>\n",
       "      <td>Bana Masal Anlatma</td>\n",
       "      <td>8.1</td>\n",
       "    </tr>\n",
       "  </tbody>\n",
       "</table>\n",
       "<p>1791 rows × 2 columns</p>\n",
       "</div>"
      ],
      "text/plain": [
       "                             title  imdbRating\n",
       "25              A Trip to the Moon         8.2\n",
       "208    The Cabinet of Dr. Caligari         8.1\n",
       "230                       One Week         8.3\n",
       "237          Why Change Your Wife?         8.1\n",
       "246                    Enchantment         8.3\n",
       "...                            ...         ...\n",
       "45805           Indru Netru Naalai         8.3\n",
       "45949           In Jackson Heights         8.6\n",
       "45974            Cosmos Laundromat         8.8\n",
       "45998                 Thani Oruvan         9.4\n",
       "46008           Bana Masal Anlatma         8.1\n",
       "\n",
       "[1791 rows x 2 columns]"
      ]
     },
     "execution_count": 15,
     "metadata": {},
     "output_type": "execute_result"
    }
   ],
   "source": [
    "#\tHow many movies have a rating above 8?\n",
    "df['imdbRating'].dtype\n",
    "df[df['imdbRating'] > 8].loc[:,['title','imdbRating']]"
   ]
  },
  {
   "cell_type": "code",
   "execution_count": 16,
   "metadata": {},
   "outputs": [],
   "source": [
    "#\tHow many movies have a runtime greater than 2 hours?\n",
    "df['runtime'] = df['runtime'].apply(lambda x: x.replace(' min','') if ('min') in str(x) else -1 ) #replacing min"
   ]
  },
  {
   "cell_type": "code",
   "execution_count": 17,
   "metadata": {},
   "outputs": [],
   "source": [
    "filt = df['runtime'].str.contains('h') == True\n",
    "df.loc[filt,'runtime']=df.loc[filt,'runtime'].apply(lambda x: int((x.split(' h '))[0])*60 + int((x.split(' h '))[1]) if (' h ') in x else x)\n"
   ]
  },
  {
   "cell_type": "code",
   "execution_count": 18,
   "metadata": {},
   "outputs": [],
   "source": [
    "df['runtime'].replace(['1,256','1,140'], [1256,1140], inplace=True)\n",
    "df[df['runtime'].str.contains(',') == True]\n",
    "df = df.astype({'runtime':'float64'})"
   ]
  },
  {
   "cell_type": "code",
   "execution_count": 19,
   "metadata": {},
   "outputs": [
    {
     "data": {
      "text/plain": [
       "4786"
      ]
     },
     "execution_count": 19,
     "metadata": {},
     "output_type": "execute_result"
    }
   ],
   "source": [
    "filt = df['runtime'] > 120\n",
    "df.loc[filt,'imdbID'].count()"
   ]
  },
  {
   "cell_type": "code",
   "execution_count": 20,
   "metadata": {},
   "outputs": [
    {
     "data": {
      "text/plain": [
       "plot        3853\n",
       "fullplot    4593\n",
       "dtype: int64"
      ]
     },
     "execution_count": 20,
     "metadata": {},
     "output_type": "execute_result"
    }
   ],
   "source": [
    "#\tHow many movies have missing values in both the 'plot' and 'fullplot' columns?\n",
    "df[['plot', 'fullplot']].isna().sum()\n"
   ]
  },
  {
   "cell_type": "code",
   "execution_count": 21,
   "metadata": {},
   "outputs": [
    {
     "data": {
      "text/plain": [
       "country\n",
       "USA              25191\n",
       "UK                5076\n",
       "France            4780\n",
       "Italy             2851\n",
       "Canada            2352\n",
       "                 ...  \n",
       "Barbados             1\n",
       "Zaire                1\n",
       "Namibia              1\n",
       "Faroe Islands        1\n",
       "Vanuatu              1\n",
       "Name: count, Length: 171, dtype: int64"
      ]
     },
     "execution_count": 21,
     "metadata": {},
     "output_type": "execute_result"
    }
   ],
   "source": [
    "#\tWhich country has produced the maximum number of movies in the dataset?\n",
    "df['country'].str.split(', ').explode().value_counts()"
   ]
  },
  {
   "cell_type": "code",
   "execution_count": 22,
   "metadata": {},
   "outputs": [],
   "source": [
    "#\tHow many movies have won at least one award?\n",
    "##Data set is not clean"
   ]
  },
  {
   "cell_type": "code",
   "execution_count": 23,
   "metadata": {},
   "outputs": [
    {
     "data": {
      "text/plain": [
       "91.56778371799886"
      ]
     },
     "execution_count": 23,
     "metadata": {},
     "output_type": "execute_result"
    }
   ],
   "source": [
    "#\tWhat is the average runtime of movies in the dataset?\n",
    "df['runtime'].mean()"
   ]
  },
  {
   "cell_type": "code",
   "execution_count": 24,
   "metadata": {},
   "outputs": [
    {
     "data": {
      "text/plain": [
       "34899"
      ]
     },
     "execution_count": 24,
     "metadata": {},
     "output_type": "execute_result"
    }
   ],
   "source": [
    "#\tHow many movies have a rating on IMDb but not on metacritic?\n",
    "filt = (df['imdbRating'].isna() == False) & (df['metacritic'].isna() == True) \n",
    "# filt = (df['metacritic'].isna() == True) \n",
    "df[filt]\n",
    "df.loc[filt,'imdbID'].count()"
   ]
  },
  {
   "cell_type": "code",
   "execution_count": 25,
   "metadata": {},
   "outputs": [
    {
     "data": {
      "text/plain": [
       "9401"
      ]
     },
     "execution_count": 25,
     "metadata": {},
     "output_type": "execute_result"
    }
   ],
   "source": [
    "#\tHow many movies have a rating on both IMDb and metacritic?\n",
    "filt = (df['imdbRating'].isna() == False) & (df['metacritic'].isna() == False) \n",
    "df[filt]\n",
    "df.loc[filt,'imdbID'].count()"
   ]
  },
  {
   "cell_type": "code",
   "execution_count": 26,
   "metadata": {},
   "outputs": [
    {
     "data": {
      "text/html": [
       "<div>\n",
       "<style scoped>\n",
       "    .dataframe tbody tr th:only-of-type {\n",
       "        vertical-align: middle;\n",
       "    }\n",
       "\n",
       "    .dataframe tbody tr th {\n",
       "        vertical-align: top;\n",
       "    }\n",
       "\n",
       "    .dataframe thead th {\n",
       "        text-align: right;\n",
       "    }\n",
       "</style>\n",
       "<table border=\"1\" class=\"dataframe\">\n",
       "  <thead>\n",
       "    <tr style=\"text-align: right;\">\n",
       "      <th></th>\n",
       "      <th>imdbID</th>\n",
       "      <th>title</th>\n",
       "      <th>year</th>\n",
       "      <th>rating</th>\n",
       "      <th>runtime</th>\n",
       "      <th>genre</th>\n",
       "      <th>released</th>\n",
       "      <th>director</th>\n",
       "      <th>writer</th>\n",
       "      <th>cast</th>\n",
       "      <th>metacritic</th>\n",
       "      <th>imdbRating</th>\n",
       "      <th>imdbVotes</th>\n",
       "      <th>poster</th>\n",
       "      <th>plot</th>\n",
       "      <th>fullplot</th>\n",
       "      <th>language</th>\n",
       "      <th>country</th>\n",
       "      <th>awards</th>\n",
       "      <th>lastupdated</th>\n",
       "      <th>type</th>\n",
       "    </tr>\n",
       "  </thead>\n",
       "  <tbody>\n",
       "    <tr>\n",
       "      <th>29443</th>\n",
       "      <td>495212</td>\n",
       "      <td>Hellsing Ultimate</td>\n",
       "      <td>20062012</td>\n",
       "      <td>TV-MA</td>\n",
       "      <td>50.0</td>\n",
       "      <td>Animation, Action, Fantasy</td>\n",
       "      <td>2006-12-05</td>\n",
       "      <td>NaN</td>\n",
       "      <td>Kohta Hirano</td>\n",
       "      <td>Katie Gray, Victoria Harwood, Crispin Freeman,...</td>\n",
       "      <td>NaN</td>\n",
       "      <td>8.5</td>\n",
       "      <td>8525.0</td>\n",
       "      <td>https://m.media-amazon.com/images/M/MV5BMTg4OT...</td>\n",
       "      <td>The vampire Alucard and his newly sired ward S...</td>\n",
       "      <td>In flashback, Integra is seen assuming leaders...</td>\n",
       "      <td>Japanese</td>\n",
       "      <td>Japan</td>\n",
       "      <td>5 wins &amp; 3 nominations.</td>\n",
       "      <td>2015-08-17 00:55:25.017000000</td>\n",
       "      <td>series</td>\n",
       "    </tr>\n",
       "    <tr>\n",
       "      <th>31425</th>\n",
       "      <td>495212</td>\n",
       "      <td>Hellsing Ultimate</td>\n",
       "      <td>20062012</td>\n",
       "      <td>TV-MA</td>\n",
       "      <td>50.0</td>\n",
       "      <td>Animation, Action, Fantasy</td>\n",
       "      <td>2006-12-05</td>\n",
       "      <td>NaN</td>\n",
       "      <td>Kohta Hirano</td>\n",
       "      <td>Katie Gray, Victoria Harwood, Crispin Freeman,...</td>\n",
       "      <td>NaN</td>\n",
       "      <td>8.5</td>\n",
       "      <td>8880.0</td>\n",
       "      <td>https://m.media-amazon.com/images/M/MV5BMTg4OT...</td>\n",
       "      <td>The vampire Alucard and his newly sired ward S...</td>\n",
       "      <td>In flashback, Integra is seen assuming leaders...</td>\n",
       "      <td>Japanese</td>\n",
       "      <td>Japan</td>\n",
       "      <td>5 wins &amp; 3 nominations.</td>\n",
       "      <td>2015-09-05 08:36:26.777000000</td>\n",
       "      <td>series</td>\n",
       "    </tr>\n",
       "    <tr>\n",
       "      <th>30643</th>\n",
       "      <td>877057</td>\n",
       "      <td>Death Note</td>\n",
       "      <td>20062007</td>\n",
       "      <td>TV-14</td>\n",
       "      <td>24.0</td>\n",
       "      <td>Animation, Crime, Drama</td>\n",
       "      <td>2006-10-03</td>\n",
       "      <td>NaN</td>\n",
       "      <td>NaN</td>\n",
       "      <td>Mamoru Miyano, Brad Swaile, Vincent Tong, Ry� ...</td>\n",
       "      <td>NaN</td>\n",
       "      <td>9.0</td>\n",
       "      <td>83811.0</td>\n",
       "      <td>https://m.media-amazon.com/images/M/MV5BMTI0NT...</td>\n",
       "      <td>An intelligent high school student goes on a s...</td>\n",
       "      <td>After an intelligent yet cynical high school s...</td>\n",
       "      <td>Japanese</td>\n",
       "      <td>Japan</td>\n",
       "      <td>2 wins.</td>\n",
       "      <td>2015-09-04 00:00:47.083000000</td>\n",
       "      <td>series</td>\n",
       "    </tr>\n",
       "    <tr>\n",
       "      <th>24060</th>\n",
       "      <td>292805</td>\n",
       "      <td>Insomniac with Dave Attell</td>\n",
       "      <td>20012004</td>\n",
       "      <td>NaN</td>\n",
       "      <td>30.0</td>\n",
       "      <td>Comedy</td>\n",
       "      <td>2001-08-05</td>\n",
       "      <td>NaN</td>\n",
       "      <td>NaN</td>\n",
       "      <td>Dave Attell</td>\n",
       "      <td>NaN</td>\n",
       "      <td>8.1</td>\n",
       "      <td>669.0</td>\n",
       "      <td>https://m.media-amazon.com/images/M/MV5BNzI1MT...</td>\n",
       "      <td>Join \"tour-guide\" Dave Attell as he takes a lo...</td>\n",
       "      <td>In this late-night traveling show, \"Tour guide...</td>\n",
       "      <td>English</td>\n",
       "      <td>USA</td>\n",
       "      <td>NaN</td>\n",
       "      <td>2015-08-28 01:10:35.707000000</td>\n",
       "      <td>series</td>\n",
       "    </tr>\n",
       "    <tr>\n",
       "      <th>20546</th>\n",
       "      <td>170982</td>\n",
       "      <td>Mortal Kombat: Conquest</td>\n",
       "      <td>19981999</td>\n",
       "      <td>NaN</td>\n",
       "      <td>40.0</td>\n",
       "      <td>Action, Adventure, Fantasy</td>\n",
       "      <td>1998-10-03</td>\n",
       "      <td>NaN</td>\n",
       "      <td>NaN</td>\n",
       "      <td>Paolo Montalban, Daniel Bernhardt, Kristanna L...</td>\n",
       "      <td>NaN</td>\n",
       "      <td>6.6</td>\n",
       "      <td>2880.0</td>\n",
       "      <td>https://m.media-amazon.com/images/M/MV5BMTc1MD...</td>\n",
       "      <td>In this prequel to the movies, Kung Lao has tr...</td>\n",
       "      <td>In this prequel to the movies, Kung Lao has tr...</td>\n",
       "      <td>English</td>\n",
       "      <td>USA</td>\n",
       "      <td>NaN</td>\n",
       "      <td>2015-07-24 00:09:46.617000000</td>\n",
       "      <td>series</td>\n",
       "    </tr>\n",
       "    <tr>\n",
       "      <th>...</th>\n",
       "      <td>...</td>\n",
       "      <td>...</td>\n",
       "      <td>...</td>\n",
       "      <td>...</td>\n",
       "      <td>...</td>\n",
       "      <td>...</td>\n",
       "      <td>...</td>\n",
       "      <td>...</td>\n",
       "      <td>...</td>\n",
       "      <td>...</td>\n",
       "      <td>...</td>\n",
       "      <td>...</td>\n",
       "      <td>...</td>\n",
       "      <td>...</td>\n",
       "      <td>...</td>\n",
       "      <td>...</td>\n",
       "      <td>...</td>\n",
       "      <td>...</td>\n",
       "      <td>...</td>\n",
       "      <td>...</td>\n",
       "      <td>...</td>\n",
       "    </tr>\n",
       "    <tr>\n",
       "      <th>37414</th>\n",
       "      <td>1758563</td>\n",
       "      <td>Accordion Player</td>\n",
       "      <td>1888</td>\n",
       "      <td>NaN</td>\n",
       "      <td>-1.0</td>\n",
       "      <td>Short</td>\n",
       "      <td>NaN</td>\n",
       "      <td>Louis Aim� Augustin Le Prince</td>\n",
       "      <td>NaN</td>\n",
       "      <td>Adolphe Le Prince</td>\n",
       "      <td>NaN</td>\n",
       "      <td>5.7</td>\n",
       "      <td>403.0</td>\n",
       "      <td>NaN</td>\n",
       "      <td>A very brief film of a man playing the accordion.</td>\n",
       "      <td>A very brief film of a man playing the accordion.</td>\n",
       "      <td>NaN</td>\n",
       "      <td>UK</td>\n",
       "      <td>NaN</td>\n",
       "      <td>2015-05-29 00:27:46.557000000</td>\n",
       "      <td>movie</td>\n",
       "    </tr>\n",
       "    <tr>\n",
       "      <th>25376</th>\n",
       "      <td>343112</td>\n",
       "      <td>Traffic Crossing Leeds Bridge</td>\n",
       "      <td>1888</td>\n",
       "      <td>NaN</td>\n",
       "      <td>-1.0</td>\n",
       "      <td>Documentary, Short</td>\n",
       "      <td>NaN</td>\n",
       "      <td>Louis Aim� Augustin Le Prince</td>\n",
       "      <td>NaN</td>\n",
       "      <td>NaN</td>\n",
       "      <td>NaN</td>\n",
       "      <td>7.2</td>\n",
       "      <td>1566.0</td>\n",
       "      <td>NaN</td>\n",
       "      <td>A shot of people walking on The Leeds Bridge.</td>\n",
       "      <td>A shot of people walking on The Leeds Bridge.</td>\n",
       "      <td>NaN</td>\n",
       "      <td>UK</td>\n",
       "      <td>NaN</td>\n",
       "      <td>2015-05-29 00:27:29.157000000</td>\n",
       "      <td>movie</td>\n",
       "    </tr>\n",
       "    <tr>\n",
       "      <th>39128</th>\n",
       "      <td>2075247</td>\n",
       "      <td>Man Walking Around the Corner</td>\n",
       "      <td>1887</td>\n",
       "      <td>NaN</td>\n",
       "      <td>-1.0</td>\n",
       "      <td>Short</td>\n",
       "      <td>NaN</td>\n",
       "      <td>Louis Aim� Augustin Le Prince</td>\n",
       "      <td>NaN</td>\n",
       "      <td>NaN</td>\n",
       "      <td>NaN</td>\n",
       "      <td>5.1</td>\n",
       "      <td>347.0</td>\n",
       "      <td>NaN</td>\n",
       "      <td>A frame sequence featuring a man walking aroun...</td>\n",
       "      <td>A frame sequence featuring a man walking aroun...</td>\n",
       "      <td>NaN</td>\n",
       "      <td>UK</td>\n",
       "      <td>NaN</td>\n",
       "      <td>2015-07-05 00:14:08.193000000</td>\n",
       "      <td>movie</td>\n",
       "    </tr>\n",
       "    <tr>\n",
       "      <th>39913</th>\n",
       "      <td>2221420</td>\n",
       "      <td>Sallie Gardner at a Gallop</td>\n",
       "      <td>1880</td>\n",
       "      <td>NaN</td>\n",
       "      <td>-1.0</td>\n",
       "      <td>Short</td>\n",
       "      <td>NaN</td>\n",
       "      <td>Eadweard Muybridge</td>\n",
       "      <td>NaN</td>\n",
       "      <td>Domm</td>\n",
       "      <td>NaN</td>\n",
       "      <td>7.3</td>\n",
       "      <td>326.0</td>\n",
       "      <td>NaN</td>\n",
       "      <td>The clip shows a jockey, Domm, riding a horse,...</td>\n",
       "      <td>The clip shows a jockey, Domm, riding a horse,...</td>\n",
       "      <td>NaN</td>\n",
       "      <td>USA</td>\n",
       "      <td>NaN</td>\n",
       "      <td>2015-01-11 00:11:04.260000000</td>\n",
       "      <td>movie</td>\n",
       "    </tr>\n",
       "    <tr>\n",
       "      <th>42862</th>\n",
       "      <td>3155794</td>\n",
       "      <td>Passage de Venus</td>\n",
       "      <td>1874</td>\n",
       "      <td>NaN</td>\n",
       "      <td>-1.0</td>\n",
       "      <td>Documentary, Short</td>\n",
       "      <td>NaN</td>\n",
       "      <td>P.J.C. Janssen</td>\n",
       "      <td>NaN</td>\n",
       "      <td>NaN</td>\n",
       "      <td>NaN</td>\n",
       "      <td>6.6</td>\n",
       "      <td>167.0</td>\n",
       "      <td>NaN</td>\n",
       "      <td>Record of the transit of the planet Venus acro...</td>\n",
       "      <td>Record of the transit of the planet Venus acro...</td>\n",
       "      <td>NaN</td>\n",
       "      <td>France</td>\n",
       "      <td>NaN</td>\n",
       "      <td>2015-08-20 00:01:31.580000000</td>\n",
       "      <td>movie</td>\n",
       "    </tr>\n",
       "  </tbody>\n",
       "</table>\n",
       "<p>46014 rows × 21 columns</p>\n",
       "</div>"
      ],
      "text/plain": [
       "        imdbID                          title      year rating  runtime   \n",
       "29443   495212              Hellsing Ultimate  20062012  TV-MA     50.0  \\\n",
       "31425   495212              Hellsing Ultimate  20062012  TV-MA     50.0   \n",
       "30643   877057                     Death Note  20062007  TV-14     24.0   \n",
       "24060   292805     Insomniac with Dave Attell  20012004    NaN     30.0   \n",
       "20546   170982        Mortal Kombat: Conquest  19981999    NaN     40.0   \n",
       "...        ...                            ...       ...    ...      ...   \n",
       "37414  1758563               Accordion Player      1888    NaN     -1.0   \n",
       "25376   343112  Traffic Crossing Leeds Bridge      1888    NaN     -1.0   \n",
       "39128  2075247  Man Walking Around the Corner      1887    NaN     -1.0   \n",
       "39913  2221420     Sallie Gardner at a Gallop      1880    NaN     -1.0   \n",
       "42862  3155794               Passage de Venus      1874    NaN     -1.0   \n",
       "\n",
       "                            genre    released                       director   \n",
       "29443  Animation, Action, Fantasy  2006-12-05                            NaN  \\\n",
       "31425  Animation, Action, Fantasy  2006-12-05                            NaN   \n",
       "30643     Animation, Crime, Drama  2006-10-03                            NaN   \n",
       "24060                      Comedy  2001-08-05                            NaN   \n",
       "20546  Action, Adventure, Fantasy  1998-10-03                            NaN   \n",
       "...                           ...         ...                            ...   \n",
       "37414                       Short         NaN  Louis Aim� Augustin Le Prince   \n",
       "25376          Documentary, Short         NaN  Louis Aim� Augustin Le Prince   \n",
       "39128                       Short         NaN  Louis Aim� Augustin Le Prince   \n",
       "39913                       Short         NaN             Eadweard Muybridge   \n",
       "42862          Documentary, Short         NaN                 P.J.C. Janssen   \n",
       "\n",
       "             writer                                               cast   \n",
       "29443  Kohta Hirano  Katie Gray, Victoria Harwood, Crispin Freeman,...  \\\n",
       "31425  Kohta Hirano  Katie Gray, Victoria Harwood, Crispin Freeman,...   \n",
       "30643           NaN  Mamoru Miyano, Brad Swaile, Vincent Tong, Ry� ...   \n",
       "24060           NaN                                        Dave Attell   \n",
       "20546           NaN  Paolo Montalban, Daniel Bernhardt, Kristanna L...   \n",
       "...             ...                                                ...   \n",
       "37414           NaN                                  Adolphe Le Prince   \n",
       "25376           NaN                                                NaN   \n",
       "39128           NaN                                                NaN   \n",
       "39913           NaN                                               Domm   \n",
       "42862           NaN                                                NaN   \n",
       "\n",
       "       metacritic  imdbRating  imdbVotes   \n",
       "29443         NaN         8.5     8525.0  \\\n",
       "31425         NaN         8.5     8880.0   \n",
       "30643         NaN         9.0    83811.0   \n",
       "24060         NaN         8.1      669.0   \n",
       "20546         NaN         6.6     2880.0   \n",
       "...           ...         ...        ...   \n",
       "37414         NaN         5.7      403.0   \n",
       "25376         NaN         7.2     1566.0   \n",
       "39128         NaN         5.1      347.0   \n",
       "39913         NaN         7.3      326.0   \n",
       "42862         NaN         6.6      167.0   \n",
       "\n",
       "                                                  poster   \n",
       "29443  https://m.media-amazon.com/images/M/MV5BMTg4OT...  \\\n",
       "31425  https://m.media-amazon.com/images/M/MV5BMTg4OT...   \n",
       "30643  https://m.media-amazon.com/images/M/MV5BMTI0NT...   \n",
       "24060  https://m.media-amazon.com/images/M/MV5BNzI1MT...   \n",
       "20546  https://m.media-amazon.com/images/M/MV5BMTc1MD...   \n",
       "...                                                  ...   \n",
       "37414                                                NaN   \n",
       "25376                                                NaN   \n",
       "39128                                                NaN   \n",
       "39913                                                NaN   \n",
       "42862                                                NaN   \n",
       "\n",
       "                                                    plot   \n",
       "29443  The vampire Alucard and his newly sired ward S...  \\\n",
       "31425  The vampire Alucard and his newly sired ward S...   \n",
       "30643  An intelligent high school student goes on a s...   \n",
       "24060  Join \"tour-guide\" Dave Attell as he takes a lo...   \n",
       "20546  In this prequel to the movies, Kung Lao has tr...   \n",
       "...                                                  ...   \n",
       "37414  A very brief film of a man playing the accordion.   \n",
       "25376      A shot of people walking on The Leeds Bridge.   \n",
       "39128  A frame sequence featuring a man walking aroun...   \n",
       "39913  The clip shows a jockey, Domm, riding a horse,...   \n",
       "42862  Record of the transit of the planet Venus acro...   \n",
       "\n",
       "                                                fullplot  language country   \n",
       "29443  In flashback, Integra is seen assuming leaders...  Japanese   Japan  \\\n",
       "31425  In flashback, Integra is seen assuming leaders...  Japanese   Japan   \n",
       "30643  After an intelligent yet cynical high school s...  Japanese   Japan   \n",
       "24060  In this late-night traveling show, \"Tour guide...   English     USA   \n",
       "20546  In this prequel to the movies, Kung Lao has tr...   English     USA   \n",
       "...                                                  ...       ...     ...   \n",
       "37414  A very brief film of a man playing the accordion.       NaN      UK   \n",
       "25376      A shot of people walking on The Leeds Bridge.       NaN      UK   \n",
       "39128  A frame sequence featuring a man walking aroun...       NaN      UK   \n",
       "39913  The clip shows a jockey, Domm, riding a horse,...       NaN     USA   \n",
       "42862  Record of the transit of the planet Venus acro...       NaN  France   \n",
       "\n",
       "                        awards                    lastupdated    type  \n",
       "29443  5 wins & 3 nominations.  2015-08-17 00:55:25.017000000  series  \n",
       "31425  5 wins & 3 nominations.  2015-09-05 08:36:26.777000000  series  \n",
       "30643                  2 wins.  2015-09-04 00:00:47.083000000  series  \n",
       "24060                      NaN  2015-08-28 01:10:35.707000000  series  \n",
       "20546                      NaN  2015-07-24 00:09:46.617000000  series  \n",
       "...                        ...                            ...     ...  \n",
       "37414                      NaN  2015-05-29 00:27:46.557000000   movie  \n",
       "25376                      NaN  2015-05-29 00:27:29.157000000   movie  \n",
       "39128                      NaN  2015-07-05 00:14:08.193000000   movie  \n",
       "39913                      NaN  2015-01-11 00:11:04.260000000   movie  \n",
       "42862                      NaN  2015-08-20 00:01:31.580000000   movie  \n",
       "\n",
       "[46014 rows x 21 columns]"
      ]
     },
     "execution_count": 26,
     "metadata": {},
     "output_type": "execute_result"
    }
   ],
   "source": [
    "#\tWhat is the earliest and latest release year of movies in the dataset?\n",
    "df.sort_values(by='year', ascending=False)"
   ]
  },
  {
   "cell_type": "code",
   "execution_count": 27,
   "metadata": {},
   "outputs": [
    {
     "data": {
      "text/plain": [
       "35798"
      ]
     },
     "execution_count": 27,
     "metadata": {},
     "output_type": "execute_result"
    }
   ],
   "source": [
    "#\tHow many movies have a poster available?\n",
    "(~df['poster'].isna()).sum()"
   ]
  },
  {
   "cell_type": "code",
   "execution_count": 28,
   "metadata": {},
   "outputs": [
    {
     "data": {
      "text/plain": [
       "407"
      ]
     },
     "execution_count": 28,
     "metadata": {},
     "output_type": "execute_result"
    }
   ],
   "source": [
    "#\tHow many unique values are present in the 'language' column?\n",
    "df['language'].str.split().explode().nunique()"
   ]
  },
  {
   "cell_type": "code",
   "execution_count": 29,
   "metadata": {},
   "outputs": [
    {
     "data": {
      "text/plain": [
       "3879"
      ]
     },
     "execution_count": 29,
     "metadata": {},
     "output_type": "execute_result"
    }
   ],
   "source": [
    "#\tHow many movies have a runtime less than 30 minutes?\n",
    "filt = df['runtime'] < 30\n",
    "df.loc[filt,'title'].count()"
   ]
  },
  {
   "cell_type": "code",
   "execution_count": 30,
   "metadata": {},
   "outputs": [
    {
     "data": {
      "text/plain": [
       "4192"
      ]
     },
     "execution_count": 30,
     "metadata": {},
     "output_type": "execute_result"
    }
   ],
   "source": [
    "#\tHow many movies have a runtime between 2 and 3 hours?\n",
    "filt = (df['runtime'] > 120) & (df['runtime'] < 180)\n",
    "df.loc[filt,'title'].count()"
   ]
  },
  {
   "cell_type": "code",
   "execution_count": 31,
   "metadata": {},
   "outputs": [
    {
     "data": {
      "text/plain": [
       "year\n",
       "20062007    9.00\n",
       "20062012    8.50\n",
       "19941998    8.20\n",
       "20012004    8.10\n",
       "1927        7.35\n",
       "            ... \n",
       "1887        5.10\n",
       "2016         NaN\n",
       "2017         NaN\n",
       "2018         NaN\n",
       "2019         NaN\n",
       "Name: imdbRating, Length: 140, dtype: float64"
      ]
     },
     "execution_count": 31,
     "metadata": {},
     "output_type": "execute_result"
    }
   ],
   "source": [
    "#\tWhich year has the highest average rating for movies?\n",
    "df['imdbRating'].dtype\n",
    "df.groupby('year')['imdbRating'].mean().sort_values(ascending=False)"
   ]
  },
  {
   "cell_type": "code",
   "execution_count": 32,
   "metadata": {},
   "outputs": [
    {
     "data": {
      "text/html": [
       "<div>\n",
       "<style scoped>\n",
       "    .dataframe tbody tr th:only-of-type {\n",
       "        vertical-align: middle;\n",
       "    }\n",
       "\n",
       "    .dataframe tbody tr th {\n",
       "        vertical-align: top;\n",
       "    }\n",
       "\n",
       "    .dataframe thead th {\n",
       "        text-align: right;\n",
       "    }\n",
       "</style>\n",
       "<table border=\"1\" class=\"dataframe\">\n",
       "  <thead>\n",
       "    <tr style=\"text-align: right;\">\n",
       "      <th></th>\n",
       "      <th>imdbID</th>\n",
       "      <th>title</th>\n",
       "      <th>year</th>\n",
       "      <th>rating</th>\n",
       "      <th>runtime</th>\n",
       "      <th>genre</th>\n",
       "      <th>released</th>\n",
       "      <th>director</th>\n",
       "      <th>writer</th>\n",
       "      <th>cast</th>\n",
       "      <th>metacritic</th>\n",
       "      <th>imdbRating</th>\n",
       "      <th>imdbVotes</th>\n",
       "      <th>poster</th>\n",
       "      <th>plot</th>\n",
       "      <th>fullplot</th>\n",
       "      <th>language</th>\n",
       "      <th>country</th>\n",
       "      <th>awards</th>\n",
       "      <th>lastupdated</th>\n",
       "      <th>type</th>\n",
       "    </tr>\n",
       "  </thead>\n",
       "  <tbody>\n",
       "    <tr>\n",
       "      <th>30643</th>\n",
       "      <td>877057</td>\n",
       "      <td>Death Note</td>\n",
       "      <td>20062007</td>\n",
       "      <td>TV-14</td>\n",
       "      <td>24.0</td>\n",
       "      <td>Animation, Crime, Drama</td>\n",
       "      <td>2006-10-03</td>\n",
       "      <td>NaN</td>\n",
       "      <td>NaN</td>\n",
       "      <td>Mamoru Miyano, Brad Swaile, Vincent Tong, Ry� ...</td>\n",
       "      <td>NaN</td>\n",
       "      <td>9.0</td>\n",
       "      <td>83811.0</td>\n",
       "      <td>https://m.media-amazon.com/images/M/MV5BMTI0NT...</td>\n",
       "      <td>An intelligent high school student goes on a s...</td>\n",
       "      <td>After an intelligent yet cynical high school s...</td>\n",
       "      <td>Japanese</td>\n",
       "      <td>Japan</td>\n",
       "      <td>2 wins.</td>\n",
       "      <td>2015-09-04 00:00:47.083000000</td>\n",
       "      <td>series</td>\n",
       "    </tr>\n",
       "  </tbody>\n",
       "</table>\n",
       "</div>"
      ],
      "text/plain": [
       "       imdbID       title      year rating  runtime                    genre   \n",
       "30643  877057  Death Note  20062007  TV-14     24.0  Animation, Crime, Drama  \\\n",
       "\n",
       "         released director writer   \n",
       "30643  2006-10-03      NaN    NaN  \\\n",
       "\n",
       "                                                    cast  metacritic   \n",
       "30643  Mamoru Miyano, Brad Swaile, Vincent Tong, Ry� ...         NaN  \\\n",
       "\n",
       "       imdbRating  imdbVotes   \n",
       "30643         9.0    83811.0  \\\n",
       "\n",
       "                                                  poster   \n",
       "30643  https://m.media-amazon.com/images/M/MV5BMTI0NT...  \\\n",
       "\n",
       "                                                    plot   \n",
       "30643  An intelligent high school student goes on a s...  \\\n",
       "\n",
       "                                                fullplot  language country   \n",
       "30643  After an intelligent yet cynical high school s...  Japanese   Japan  \\\n",
       "\n",
       "        awards                    lastupdated    type  \n",
       "30643  2 wins.  2015-09-04 00:00:47.083000000  series  "
      ]
     },
     "execution_count": 32,
     "metadata": {},
     "output_type": "execute_result"
    }
   ],
   "source": [
    "filt = df['year'] == 20062007\n",
    "df[filt]\n"
   ]
  },
  {
   "cell_type": "code",
   "execution_count": 33,
   "metadata": {},
   "outputs": [],
   "source": [
    "#\tHow many movies have 'sci-fi' as one of the genres?\n",
    "df['genre'].str.split(', ').explode().value_counts()\n",
    "filt = df['genre'].str.contains('Sci-Fi')\n",
    "df['genre'].fillna('unknown', inplace=True)\n",
    "# df[filt]"
   ]
  },
  {
   "cell_type": "code",
   "execution_count": 34,
   "metadata": {},
   "outputs": [
    {
     "data": {
      "text/plain": [
       "2450"
      ]
     },
     "execution_count": 34,
     "metadata": {},
     "output_type": "execute_result"
    }
   ],
   "source": [
    "df.loc[df['genre'].str.contains('Sci-Fi'), 'title'].count()"
   ]
  }
 ],
 "metadata": {
  "kernelspec": {
   "display_name": "Python 3",
   "language": "python",
   "name": "python3"
  },
  "language_info": {
   "codemirror_mode": {
    "name": "ipython",
    "version": 3
   },
   "file_extension": ".py",
   "mimetype": "text/x-python",
   "name": "python",
   "nbconvert_exporter": "python",
   "pygments_lexer": "ipython3",
   "version": "3.11.2"
  },
  "orig_nbformat": 4
 },
 "nbformat": 4,
 "nbformat_minor": 2
}
